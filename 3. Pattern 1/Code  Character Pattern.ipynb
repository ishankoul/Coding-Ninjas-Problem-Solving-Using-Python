{
 "cells": [
  {
   "cell_type": "markdown",
   "metadata": {},
   "source": [
    "# Code : Character Pattern\n",
    "Code : Character Pattern<br>\n",
    "<br>\n",
    "Print the following pattern for the given N number of rows.<br>\n",
    "<br>\n",
    "Pattern for N = 4<br>\n",
    "A<br>\n",
    "BC<br>\n",
    "CDE<br>\n",
    "DEFG<br>\n",
    "<br>\n",
    "Input format :<br>\n",
    "Integer N (Total no. of rows)<br>\n",
    "<br>\n",
    "Output format :<br>\n",
    "Pattern in N lines<br>\n",
    "<br>\n",
    "Constraints<br>\n",
    "0 <= N <= 13<br>\n",
    "<br>\n",
    "Sample Input 1:<br>\n",
    "5<br>\n",
    "Sample Output 1:<br>\n",
    "A<br>\n",
    "BC<br>\n",
    "CDE<br>\n",
    "DEFG<br>\n",
    "EFGHI<br>\n",
    "Sample Input 2:<br>\n",
    "6<br>\n",
    "Sample Output 2:<br>\n",
    "A<br>\n",
    "BC<br>\n",
    "CDE<br>\n",
    "DEFG<br>\n",
    "EFGHI<br>\n",
    "FGHIJK"
   ]
  },
  {
   "cell_type": "code",
   "execution_count": null,
   "metadata": {},
   "outputs": [],
   "source": [
    "n=int(input())\n",
   " i=1"
"j=1"
"k=65"
"while i<=n:"
   " j=1"
    "k= 64+i"
   " while j<=i:"
        "print(chr(k),end="")"
      "  k=k+1"
     "   j=j+1 "
   " print()"
   " i=i+1"
    ]
  }
 ],
 "metadata": {
  "kernelspec": {
   "display_name": "Python 3",
   "language": "python",
   "name": "python3"
  },
  "language_info": {
   "codemirror_mode": {
    "name": "ipython",
    "version": 3
   },
   "file_extension": ".py",
   "mimetype": "text/x-python",
   "name": "python",
   "nbconvert_exporter": "python",
   "pygments_lexer": "ipython3",
   "version": "3.8.6"
  }
 },
 "nbformat": 4,
 "nbformat_minor": 4
}
