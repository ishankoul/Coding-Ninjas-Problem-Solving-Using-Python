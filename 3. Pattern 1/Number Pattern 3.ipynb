{
 "cells": [
  {
   "cell_type": "markdown",
   "metadata": {},
   "source": [
    "# Number Pattern 3\n",
    "Print the following pattern for the given N number of rows.<br>\n",
    "<br>\n",
    "Pattern for N = 4<br>\n",
    "1<br>\n",
    "11<br>\n",
    "121<br>\n",
    "1221<br>\n",
    "<br>\n",
    "Input format :<br>\n",
    "Integer N (Total no. of rows)<br>\n",
    "<br>\n",
    "Output format :<br>\n",
    "Pattern in N lines<br>\n",
    "<br>\n",
    "Sample Input :<br>\n",
    "5<br>\n",
    "Sample Output :<br>\n",
    "1<br>\n",
    "11<br>\n",
    "121<br>\n",
    "1221<br>\n",
    "12221"
   ]
  },
  {
   "cell_type": "code",
   "execution_count": null,
   "metadata": {},
   "outputs": [],
   "source": [
 "  import sys "
"n=int(input())"
"if n==0:"
   " sys.exit()"
"print(1)"
"i=1"
"while(i<n):"
 "   j=0"
  "  while(j<i+1):"
       " if(j==0 or j==i):"
         "   print(1,end="")"
      "  else:"
       "     print(2,end="")"
     "   j=j+1"
  "  i=i+1"
  "  print() "
    
   ]
  }
 ],
 "metadata": {
  "kernelspec": {
   "display_name": "Python 3",
   "language": "python",
   "name": "python3"
  },
  "language_info": {
   "codemirror_mode": {
    "name": "ipython",
    "version": 3
   },
   "file_extension": ".py",
   "mimetype": "text/x-python",
   "name": "python",
   "nbconvert_exporter": "python",
   "pygments_lexer": "ipython3",
   "version": "3.8.6"
  }
 },
 "nbformat": 4,
 "nbformat_minor": 4
}
