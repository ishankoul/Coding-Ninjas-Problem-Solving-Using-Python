{
 "cells": [
  {
   "cell_type": "markdown",
   "metadata": {},
   "source": [
    "# Arithmetic Progression\n",
    "You are given first three entries of an arithmetic progression. You have to calculate the common difference and print it.<br>\n",
    "<br>\n",
    "Input format:<br>\n",
    "The first line of input contains an integer a (1 <= a <= 100)<br>\n",
    "The second line of input contains an integer b (1 <= b <= 100) <br>\n",
    "The third line of input contains an integer c (1 <= c <= 100) <br>\n",
    "<br>\n",
    "Constraints:<br>\n",
    "Time Limit: 1 second<br>\n",
    "<br>\n",
    "Output format:<br>\n",
    "The first and only line of output contains the result. <br>\n",
    "<br>\n",
    "Sample Input:<br>\n",
    "1<br>\n",
    "3<br>\n",
    "5<br>\n",
    "Sample Output:<br>\n",
    "2"
   ]
  },
  {
   "cell_type": "code",
   "execution_count": null,
   "metadata": {},
   "outputs": [],
   "source": [
    "a=int(input())\n",
    "b=int(input())\n",
    "c=int(input())\n",
    "if (1 <= a <= 100) and (1 <= b <= 100) and (1 <= c <= 100):"
     " print(b-a)"
   ]
  }
 ],
 "metadata": {
  "kernelspec": {
   "display_name": "Python 3",
   "language": "python",
   "name": "python3"
  },
  "language_info": {
   "codemirror_mode": {
    "name": "ipython",
    "version": 3
   },
   "file_extension": ".py",
   "mimetype": "text/x-python",
   "name": "python",
   "nbconvert_exporter": "python",
   "pygments_lexer": "ipython3",
   "version": "3.8.6"
  }
 },
 "nbformat": 4,
 "nbformat_minor": 4
}
